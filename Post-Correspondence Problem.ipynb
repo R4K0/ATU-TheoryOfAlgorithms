{
 "cells": [
  {
   "cell_type": "markdown",
   "id": "81ca867f",
   "metadata": {},
   "source": [
    "# What is this notebook about.\n",
    "This notebook briefly consolidates information about the Post-Correspondence Problem into a simple Jupyter Notebook with examples for easier digestion of the information. This information is not supposed to be exhaustive, however it should provide a good basis for basic understanding of this problem\n",
    "\n",
    "# What's the Post-Correspondence Problem\n",
    "It's one of the simpler undecisable decision problems, that due to its simplicity, is often used to prove a problem to be in fact, undecisable.\n",
    "### But what is meant by the \"undecisable decision problem\"?\n",
    "It'll be easier to explain what a decisable problem is, first - A problem is decisable, if it is possible to create an algorithm which solves it 100% accuratelly each time, in a finite amount of given time.\n",
    "A decision problem, as per computability theory, is a problem that can be described as a \"yes or no\" question of the input it was given. An example would be, \"given this number input, is the input a prime number?\". The given algorithm solving such a would be called a decision procedure. (See also; Long Division as an example of a decision procedure.)\n",
    "\n",
    "So now, we know what an decisable problem is, undecisable problem is basically the reverse of the definition, it's impossible to create an algorithm which results in 100% accurately answering yes or no in a finite amount of time/resources we give it. Problems can be undecisable to a degree (called degree of unsolvability, or the turing degree).\n",
    "### Continuing on the Post Correspondence Problem\n",
    "Now that we know what a decision problem is, we can continue the overview and description of the problem. This problem was introduced by Emil Post in 1946 (one of the \"founders\" of the  computability theory!).\n",
    "This problem, as mentioned before, is used often to write proofs of undecidability of a given problem, because of its relative simplicity to other problems. \n",
    "\n",
    "#### Description\n",
    "The description of the problem is as follows:\n",
    "Given a list A of an alphabet, of at least two symbols and the input being another two lists of a(1) -> a(n), b(1) -> b(n) of words over the set A - and the solution of the problem being a sequence of indices \n",
    "\n"
   ]
  },
  {
   "cell_type": "code",
   "execution_count": null,
   "id": "4374e688",
   "metadata": {},
   "outputs": [],
   "source": []
  },
  {
   "cell_type": "code",
   "execution_count": null,
   "id": "24373a3a",
   "metadata": {},
   "outputs": [],
   "source": []
  }
 ],
 "metadata": {
  "kernelspec": {
   "display_name": "Python 3 (ipykernel)",
   "language": "python",
   "name": "python3"
  },
  "language_info": {
   "codemirror_mode": {
    "name": "ipython",
    "version": 3
   },
   "file_extension": ".py",
   "mimetype": "text/x-python",
   "name": "python",
   "nbconvert_exporter": "python",
   "pygments_lexer": "ipython3",
   "version": "3.9.6"
  }
 },
 "nbformat": 4,
 "nbformat_minor": 5
}

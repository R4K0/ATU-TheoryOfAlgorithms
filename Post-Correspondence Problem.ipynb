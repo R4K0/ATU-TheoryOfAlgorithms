{
 "cells": [
  {
   "cell_type": "markdown",
   "source": [
    "# What is this notebook about.\r\n",
    "This notebook briefly consolidates information about the Post-Correspondence Problem into a simple Jupyter Notebook with examples for easier digestion of the information. This information is not supposed to be exhaustive, however it should provide a good basis for basic understanding of this problem\r\n",
    "\r\n",
    "## What's the Post-Correspondence Problem\r\n",
    "It's one of the simpler undecidable decision problems, that due to its simplicity, is often used to prove a problem to be in fact, undecidable.\r\n",
    "\r\n",
    "### But what is meant by the \"undecidable decision problem\"?\r\n",
    "It'll be easier to explain what a decidable problem is, first - A problem is decidable, if it is possible to create an algorithm which solves it 100% accurately each time, in a finite amount of given time.\r\n",
    "A decision problem, as per computability theory, is a problem that can be answered as a \"yes or no\" question of the input it was given. An example would be, \"given this number input, is the input a prime number?\". The given algorithm solving such a would be called a decision procedure. (See also; Long Division as an example of a decision procedure.)\r\n",
    "In a nut-shell, an undecidable decision problem has proven itself to be a problem that cannot just yet be solved in real-time by a computer.\r\n",
    "\r\n",
    "### Decidable Problems\r\n",
    "So now, we know what an decidable problem is, undecidable problem is basically the reverse of the definition, it's impossible to create an algorithm which results in 100% accurately answering yes or no in a finite amount of time/resources we give it. Problems can be undecidable to a degree (called degree of solvability, or the turing degree).\r\n",
    "\r\n",
    "### Continuing on the Post Correspondence Problem\r\n",
    "Now that we know what a decision problem is, we can continue the overview and description of the problem. This problem was introduced by Emil Post in 1946 (one of the \"founders\" of the  computability theory!).\r\n",
    "This problem, as mentioned before, is used often to write proofs of undecidability of a given problem, because of its relative simplicity to other problems. \r\n",
    "\r\n",
    "#### Description\r\n",
    "The description of the problem is as follows:\r\n",
    "Given a list A of an alphabet, of at least two symbols and the input being another two lists of a(1) -> a(n), b(1) -> b(n) of words over the set A - and the solution of the problem being a sequence of indices.\r\n",
    "\r\n"
   ],
   "metadata": {}
  },
  {
   "cell_type": "code",
   "execution_count": 118,
   "source": [
    "# We'll construct lists using these, this is our alphabet that has at least two symbols (a and b)\r\n",
    "a = 'a'\r\n",
    "b = 'b'\r\n",
    "\r\n",
    "# First input list\r\n",
    "A = ((a,), (a, b), (b, b, a))\r\n",
    "A"
   ],
   "outputs": [
    {
     "output_type": "execute_result",
     "data": {
      "text/plain": [
       "(('a',), ('a', 'b'), ('b', 'b', 'a'))"
      ]
     },
     "metadata": {},
     "execution_count": 118
    }
   ],
   "metadata": {}
  },
  {
   "cell_type": "code",
   "execution_count": 119,
   "source": [
    "# Second output list\r\n",
    "B = ((b, a, a), (a, a), (b,b))\r\n",
    "B"
   ],
   "outputs": [
    {
     "output_type": "execute_result",
     "data": {
      "text/plain": [
       "(('b', 'a', 'a'), ('a', 'a'), ('b', 'b'))"
      ]
     },
     "metadata": {},
     "execution_count": 119
    }
   ],
   "metadata": {}
  },
  {
   "cell_type": "code",
   "execution_count": 120,
   "source": [
    "SOL = (2, 1, 2, 0)\r\n",
    "\r\n",
    "def apply(S, L):\r\n",
    "    S_on_L = [''.join(L[i]) for i in S]\r\n",
    "    return ''.join(S_on_L)\r\n",
    "\r\n",
    "# Apply the solution to the 1st list.\r\n",
    "S1 = apply(SOL, A)"
   ],
   "outputs": [],
   "metadata": {}
  },
  {
   "cell_type": "code",
   "execution_count": 121,
   "source": [
    "# Apply the solution to the second list\r\n",
    "S2 = apply(SOL, B)"
   ],
   "outputs": [],
   "metadata": {}
  },
  {
   "cell_type": "code",
   "execution_count": 122,
   "source": [
    "# Now, lets check if they are equal\r\n",
    "S1 == S2"
   ],
   "outputs": [
    {
     "output_type": "execute_result",
     "data": {
      "text/plain": [
       "True"
      ]
     },
     "metadata": {},
     "execution_count": 122
    }
   ],
   "metadata": {}
  },
  {
   "cell_type": "code",
   "execution_count": 123,
   "source": [
    "# In case we want to peek the applied solution, we can do so\r\n",
    "S2"
   ],
   "outputs": [
    {
     "output_type": "execute_result",
     "data": {
      "text/plain": [
       "'bbaabbbaa'"
      ]
     },
     "metadata": {},
     "execution_count": 123
    }
   ],
   "metadata": {}
  },
  {
   "cell_type": "markdown",
   "source": [
    "## PCP Undecidability Proof\r\n",
    "Proof for the undecidability of the Post-Correspondence Problem (PCP) can be proven using an instance of PCP as simulation of an arbitrary Turning machine. Match would occur, only the input would be accepted by the Turing machine. (https://en.wikipedia.org/wiki/Halting_problem).\r\n",
    "\r\n",
    "Going further into detail, the basic idea is that the domino string of top and bottom are the computation history of the Turing machine. The initial state of the Turing machine is a string, and any following strings are describing the next state, and so on until it reaches the string describing an accepting state."
   ],
   "metadata": {}
  },
  {
   "cell_type": "markdown",
   "source": [
    "# Bounded Post Correspondence Problem\r\n",
    "One most notable and important variation of the post correspondence is the *bounded* post-correspondence problem - Which aims to solve the same problem, but using no more than *k* tiles (repeating tiles is allowed, but not beyond k). A tile is a representation of indices between two input lists, similar to a domino tile. List A ['aa', 'bb'] and List B ['cc', 'dd'] would produce tiles of [ 'aa', 'cc' ] and [ 'bb', 'dd' ]\r\n",
    "\r\n",
    "### Time Complexity\r\n",
    "The worst case time complexity for this scenario is O(2^k) through brute forcing, however this is difficult to improve upon, because the problem is NP-complete. (Correctness of the problem can be solved quickly using a solution found through brute-forcing, however finding a way to find such a solution quickly isn't known). Meaning NP-Complete problems, including this one, will grow in (time) complexity rapidly as the size of the problem increases.\r\n",
    "\r\n",
    "### Example"
   ],
   "metadata": {}
  },
  {
   "cell_type": "code",
   "execution_count": 124,
   "source": [
    "import itertools as iter\r\n",
    "\r\n",
    "# Construct our tuples, we'll create domino pairs using that.\r\n",
    "L1 = (\"a\", \"ab\", \"bba\")\r\n",
    "L2 = (\"baa\", \"aa\", \"bb\")\r\n",
    "\r\n",
    "# We'll need to construct a cartesian product of two lists.\r\n",
    "# Cartesian product is a set of ordered input pairs in a way that first element of the pair belongs from the first set,\r\n",
    "# and second element belongs to the second set\r\n",
    "# https://www.geeksforgeeks.org/python-itertools-product/\r\n",
    "\r\n",
    "# As a reminder, K is the \"bound\" part of this PCP problem, meaning that we're not allowed to use more than K-amount of tiles.\r\n",
    "def cartesian(list, K):\r\n",
    "\tresult = []\r\n",
    "\r\n",
    "\t# From 1 up to the upper bound K, we'll create all possible combinations/permutations/cartesian products of the list\r\n",
    "\tfor i in range(1, K + 1):\r\n",
    "\t\tfor productIter in iter.product(list, repeat = i):\r\n",
    "\t\t\t# Keep appending it to the cartesian product list\r\n",
    "\t\t\tresult.append(''.join(productIter))\r\n",
    "\r\n",
    "\treturn result\r\n",
    "\r\n",
    "# Check if two tuples/lists correspond to each other, we'll validate the answer using this.\r\n",
    "def check_kpcp(L1, L2, K):\r\n",
    "\t# This isn't valid operation, so before we do any computetively expensive stuff, we'll check if the input is valid or not.\r\n",
    "\tif len(L1) != len(L2):\r\n",
    "\t\treturn False\r\n",
    "\r\n",
    "\t# Let's get the catesian product for both of our lists\r\n",
    "\tcartesian_prod1 = cartesian(L1, K)\r\n",
    "\tcartesian_prod2 = cartesian(L2, K)\r\n",
    "\r\n",
    "\t# Then, let's compare the two products to see if they correspond to each other.\r\n",
    "\tfor product1, product2 in zip(cartesian_prod1, cartesian_prod2):\r\n",
    "\t\tif product1 == product2:\r\n",
    "\t\t\treturn True\r\n",
    "\r\n",
    "\treturn False"
   ],
   "outputs": [],
   "metadata": {}
  },
  {
   "cell_type": "code",
   "execution_count": 125,
   "source": [
    "# We'll use pandas for handy dataframe operations\r\n",
    "import pandas as panda\r\n",
    "\r\n",
    "# Let's generate all of the cartesian products now, and visualize them in the console \r\n",
    "cartesian_result1 = cartesian(L1, 3)\r\n",
    "cartesian_result2 = cartesian(L2, 3)\r\n",
    "\r\n",
    "# Lets see the first 10 results of our cartesian product\r\n",
    "example = panda.DataFrame()\r\n",
    "\r\n",
    "example[\"First Product\"] = cartesian_result1[:10]\r\n",
    "example[\"Second Product\"] = cartesian_result2[:10]\r\n",
    "\r\n",
    "example"
   ],
   "outputs": [
    {
     "output_type": "execute_result",
     "data": {
      "text/plain": [
       "  First Product Second Product\n",
       "0             a            baa\n",
       "1            ab             aa\n",
       "2           bba             bb\n",
       "3            aa         baabaa\n",
       "4           aab          baaaa\n",
       "5          abba          baabb\n",
       "6           aba          aabaa\n",
       "7          abab           aaaa\n",
       "8         abbba           aabb\n",
       "9          bbaa          bbbaa"
      ],
      "text/html": [
       "<div>\n",
       "<style scoped>\n",
       "    .dataframe tbody tr th:only-of-type {\n",
       "        vertical-align: middle;\n",
       "    }\n",
       "\n",
       "    .dataframe tbody tr th {\n",
       "        vertical-align: top;\n",
       "    }\n",
       "\n",
       "    .dataframe thead th {\n",
       "        text-align: right;\n",
       "    }\n",
       "</style>\n",
       "<table border=\"1\" class=\"dataframe\">\n",
       "  <thead>\n",
       "    <tr style=\"text-align: right;\">\n",
       "      <th></th>\n",
       "      <th>First Product</th>\n",
       "      <th>Second Product</th>\n",
       "    </tr>\n",
       "  </thead>\n",
       "  <tbody>\n",
       "    <tr>\n",
       "      <th>0</th>\n",
       "      <td>a</td>\n",
       "      <td>baa</td>\n",
       "    </tr>\n",
       "    <tr>\n",
       "      <th>1</th>\n",
       "      <td>ab</td>\n",
       "      <td>aa</td>\n",
       "    </tr>\n",
       "    <tr>\n",
       "      <th>2</th>\n",
       "      <td>bba</td>\n",
       "      <td>bb</td>\n",
       "    </tr>\n",
       "    <tr>\n",
       "      <th>3</th>\n",
       "      <td>aa</td>\n",
       "      <td>baabaa</td>\n",
       "    </tr>\n",
       "    <tr>\n",
       "      <th>4</th>\n",
       "      <td>aab</td>\n",
       "      <td>baaaa</td>\n",
       "    </tr>\n",
       "    <tr>\n",
       "      <th>5</th>\n",
       "      <td>abba</td>\n",
       "      <td>baabb</td>\n",
       "    </tr>\n",
       "    <tr>\n",
       "      <th>6</th>\n",
       "      <td>aba</td>\n",
       "      <td>aabaa</td>\n",
       "    </tr>\n",
       "    <tr>\n",
       "      <th>7</th>\n",
       "      <td>abab</td>\n",
       "      <td>aaaa</td>\n",
       "    </tr>\n",
       "    <tr>\n",
       "      <th>8</th>\n",
       "      <td>abbba</td>\n",
       "      <td>aabb</td>\n",
       "    </tr>\n",
       "    <tr>\n",
       "      <th>9</th>\n",
       "      <td>bbaa</td>\n",
       "      <td>bbbaa</td>\n",
       "    </tr>\n",
       "  </tbody>\n",
       "</table>\n",
       "</div>"
      ]
     },
     "metadata": {},
     "execution_count": 125
    }
   ],
   "metadata": {}
  },
  {
   "cell_type": "code",
   "execution_count": 126,
   "source": [
    "result = check_kpcp(L1, L2, 5)\r\n",
    "\r\n",
    "# This should work.\r\n",
    "print(\"Solution Found!\" if result else \"No Solution Found!\")\r\n",
    "\r\n",
    "# However, if we lower the iterations, it won't find a solution - Simply increasing the K factor would solve the problem, however it is not always possible -\r\n",
    "# The problem will get harder and harder to solve with each iteration, until it simply would not be solved in a finite amount of time. \r\n",
    "# Try putting the iterations to 20, and take a nap - it probably still won't be done by then.\r\n",
    "result = check_kpcp(L1, L2, 3)\r\n",
    "print(\"Solution Found!\" if result else \"No Solution Found!\")"
   ],
   "outputs": [
    {
     "output_type": "stream",
     "name": "stdout",
     "text": [
      "Solution Found!\n",
      "No Solution Found!\n"
     ]
    }
   ],
   "metadata": {}
  },
  {
   "cell_type": "markdown",
   "source": [
    "### References and Resources used\r\n",
    "- [Wikipedia - Post-Correspondence Problem](https://en.wikipedia.org/wiki/Post-correspondence_problem)\r\n",
    "- [Decision Problem](https://en.wikipedia.org/wiki/Decision_problem)\r\n",
    "- [Computability Theory](https://en.wikipedia.org/wiki/Computability_theory)\r\n",
    "- [Post-Correspondence Problem](https://www.geeksforgeeks.org/post-correspondence-problem/)\r\n",
    "- [Decision Problem](https://en.wikipedia.org/wiki/Decision_problem)\r\n"
   ],
   "metadata": {}
  }
 ],
 "metadata": {
  "kernelspec": {
   "name": "python3",
   "display_name": "Python 3.8.8 64-bit ('base': conda)"
  },
  "language_info": {
   "codemirror_mode": {
    "name": "ipython",
    "version": 3
   },
   "file_extension": ".py",
   "mimetype": "text/x-python",
   "name": "python",
   "nbconvert_exporter": "python",
   "pygments_lexer": "ipython3",
   "version": "3.8.8"
  },
  "interpreter": {
   "hash": "25dec76292e73d01a001f10f10b603b91395fc97c6d087b4df750b579f784e86"
  }
 },
 "nbformat": 4,
 "nbformat_minor": 5
}
{
 "cells": [
  {
   "cell_type": "markdown",
   "id": "81ca867f",
   "metadata": {},
   "source": [
    "# What is this notebook about.\n",
    "This notebook briefly consolidates information about the Post-Correspondence Problem into a simple Jupyter Notebook with examples for easier digestion of the information. This information is not supposed to be exhaustive, however it should provide a good basis for basic understanding of this problem\n",
    "\n",
    "# What's the Post-Correspondence Problem\n",
    "It's one of the simpler undecisable decision problems, that due to its simplicity, is often used to prove a problem to be in fact, undecisable.\n",
    "### But what is meant by the \"undecisable decision problem\"?\n",
    "It'll be easier to explain what a decisable problem is - A problem is decisable, if it is possible to create an algorithm which solves it 100% accuratelly each time.\n",
    "A decision problem, \n",
    "\n"
   ]
  },
  {
   "cell_type": "code",
   "execution_count": null,
   "id": "4374e688",
   "metadata": {},
   "outputs": [],
   "source": []
  },
  {
   "cell_type": "code",
   "execution_count": null,
   "id": "24373a3a",
   "metadata": {},
   "outputs": [],
   "source": []
  }
 ],
 "metadata": {
  "kernelspec": {
   "display_name": "Python 3 (ipykernel)",
   "language": "python",
   "name": "python3"
  },
  "language_info": {
   "codemirror_mode": {
    "name": "ipython",
    "version": 3
   },
   "file_extension": ".py",
   "mimetype": "text/x-python",
   "name": "python",
   "nbconvert_exporter": "python",
   "pygments_lexer": "ipython3",
   "version": "3.9.6"
  }
 },
 "nbformat": 4,
 "nbformat_minor": 5
}

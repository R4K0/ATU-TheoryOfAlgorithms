{
 "cells": [
  {
   "cell_type": "markdown",
   "source": [
    "# What is this notebook about.\r\n",
    "This notebook briefly consolidates information about the Post-Correspondence Problem into a simple Jupyter Notebook with examples for easier digestion of the information. This information is not supposed to be exhaustive, however it should provide a good basis for basic understanding of this problem\r\n",
    "\r\n",
    "## What's the Post-Correspondence Problem\r\n",
    "It's one of the simpler undecidable decision problems, that due to its simplicity, is often used to prove a problem to be in fact, undecidable.\r\n",
    "\r\n",
    "### But what is meant by the \"undecidable decision problem\"?\r\n",
    "It'll be easier to explain what a decidable problem is, first - A problem is decidable, if it is possible to create an algorithm which solves it 100% accurately each time, in a finite amount of given time.\r\n",
    "A decision problem, as per computability theory, is a problem that can be described as a \"yes or no\" question of the input it was given. An example would be, \"given this number input, is the input a prime number?\". The given algorithm solving such a would be called a decision procedure. (See also; Long Division as an example of a decision procedure.)\r\n",
    "\r\n",
    "So now, we know what an decidable problem is, undecidable problem is basically the reverse of the definition, it's impossible to create an algorithm which results in 100% accurately answering yes or no in a finite amount of time/resources we give it. Problems can be undecidable to a degree (called degree of solvability, or the turing degree).\r\n",
    "\r\n",
    "### Continuing on the Post Correspondence Problem\r\n",
    "Now that we know what a decision problem is, we can continue the overview and description of the problem. This problem was introduced by Emil Post in 1946 (one of the \"founders\" of the  computability theory!).\r\n",
    "This problem, as mentioned before, is used often to write proofs of undecidability of a given problem, because of its relative simplicity to other problems. \r\n",
    "\r\n",
    "#### Description\r\n",
    "The description of the problem is as follows:\r\n",
    "Given a list A of an alphabet, of at least two symbols and the input being another two lists of a(1) -> a(n), b(1) -> b(n) of words over the set A - and the solution of the problem being a sequence of indices.\r\n",
    "\r\n"
   ],
   "metadata": {}
  },
  {
   "cell_type": "code",
   "execution_count": 8,
   "source": [
    "# We'll construct lists using these, this is our alphabet that has at least two symbols (a and b)\r\n",
    "a = 'a'\r\n",
    "b = 'b'\r\n",
    "\r\n",
    "# First input list\r\n",
    "A = ((a,), (a, b), (b, b, a))\r\n",
    "A"
   ],
   "outputs": [
    {
     "output_type": "execute_result",
     "data": {
      "text/plain": [
       "(('a',), ('a', 'b'), ('b', 'b', 'a'))"
      ]
     },
     "metadata": {},
     "execution_count": 8
    }
   ],
   "metadata": {}
  },
  {
   "cell_type": "code",
   "execution_count": 9,
   "source": [
    "# Second output list\r\n",
    "B = ((b, a, a), (a, a), (b,b))\r\n",
    "B"
   ],
   "outputs": [
    {
     "output_type": "execute_result",
     "data": {
      "text/plain": [
       "(('b', 'a', 'a'), ('a', 'a'), ('b', 'b'))"
      ]
     },
     "metadata": {},
     "execution_count": 9
    }
   ],
   "metadata": {}
  },
  {
   "cell_type": "code",
   "execution_count": 10,
   "source": [
    "SOL = (2, 1, 2, 0)\r\n",
    "\r\n",
    "def apply(S, L):\r\n",
    "    S_on_L = [''.join(L[i]) for i in S]\r\n",
    "    return ''.join(S_on_L)\r\n",
    "\r\n",
    "# Apply the solution to the 1st list.\r\n",
    "S1 = apply(SOL, A)"
   ],
   "outputs": [],
   "metadata": {}
  },
  {
   "cell_type": "code",
   "execution_count": 11,
   "source": [
    "# Apply the solution to the second list\r\n",
    "S2 = apply(SOL, B)"
   ],
   "outputs": [],
   "metadata": {}
  },
  {
   "cell_type": "code",
   "execution_count": 12,
   "source": [
    "# Now, lets check if they are equal\r\n",
    "S1 == S2"
   ],
   "outputs": [
    {
     "output_type": "execute_result",
     "data": {
      "text/plain": [
       "True"
      ]
     },
     "metadata": {},
     "execution_count": 12
    }
   ],
   "metadata": {}
  },
  {
   "cell_type": "code",
   "execution_count": 13,
   "source": [
    "# In case we want to peek the applied solution, we can do so\r\n",
    "S2"
   ],
   "outputs": [
    {
     "output_type": "execute_result",
     "data": {
      "text/plain": [
       "'bbaabbbaa'"
      ]
     },
     "metadata": {},
     "execution_count": 13
    }
   ],
   "metadata": {}
  },
  {
   "cell_type": "markdown",
   "source": [
    "## Bounded Post Correspondence Problem\r\n",
    "One most notable and important variation of the post correspondence is the *bounded* post-correspondence problem - Which aims to solve the same problem, but using no more than *k* tiles (repeating tiles is allowed, but not beyond k). A tile is a representation of indices between two input lists, similar to a domino tile. List A ['aa', 'bb'] and List B ['cc', 'dd'] would produce tiles of [ 'aa', 'cc' ] and [ 'bb', 'dd' ]\r\n",
    "\r\n",
    "The worst case time complexity for this scenario is O(2^k) through brute forcing, however this is difficult to improve upon, because the problem is NP-complete. (Correctness of the problem can be solved quickly using a solution found through brute-forcing, however finding a way to find such a solution quickly isn't known). Meaning NP-Complete problems, including this one, will grow in (time) complexity rapidly as the size of the problem increases.\r\n",
    "\r\n",
    "### Example"
   ],
   "metadata": {}
  },
  {
   "cell_type": "code",
   "execution_count": 14,
   "source": [
    "import itertools as iter\r\n",
    "\r\n",
    "# Check if two tuples/lists correspond to each other, we'll validate the answer using this.\r\n",
    "def check_correspondence(L1, L2):\r\n",
    "\treturn L1 == L2\r\n",
    "\r\n"
   ],
   "outputs": [],
   "metadata": {}
  }
 ],
 "metadata": {
  "kernelspec": {
   "name": "python3",
   "display_name": "Python 3.8.8 64-bit ('base': conda)"
  },
  "language_info": {
   "codemirror_mode": {
    "name": "ipython",
    "version": 3
   },
   "file_extension": ".py",
   "mimetype": "text/x-python",
   "name": "python",
   "nbconvert_exporter": "python",
   "pygments_lexer": "ipython3",
   "version": "3.8.8"
  },
  "interpreter": {
   "hash": "25dec76292e73d01a001f10f10b603b91395fc97c6d087b4df750b579f784e86"
  }
 },
 "nbformat": 4,
 "nbformat_minor": 5
}
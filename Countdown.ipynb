{
 "cells": [
  {
   "cell_type": "markdown",
   "source": [
    "# The Countdown Show, Numbers-Game \r\n",
    "Countdown is a british show that broadcast on Channel 4. In the show, there are three games that are played in the show. We'll be concerned with the game that is called \"Countdown\" - Essentially, the contestants must use arithmetic mathematics to reach a random target number from six other numbers.\r\n",
    "\r\n",
    "We'll be using the code available to us from the college labs, except the code will be refactored to use the functional approach.\r\n",
    "\r\n",
    "We can use the reverse polish notation in finding of the target number using all the possible permutations (combinations) of the numbers and the operators."
   ],
   "metadata": {}
  },
  {
   "cell_type": "code",
   "execution_count": 302,
   "source": [
    "# Import all the libraries that the lab used.\r\n",
    "import itertools as it\r\n",
    "import random\r\n",
    "import operator\r\n",
    "import pandas as pd\r\n",
    "\r\n",
    "# Generate the list of the \"large\" numbers.\r\n",
    "def generate_large(step = 25, amount = 4):\r\n",
    "\tres = []\r\n",
    "\r\n",
    "\tfor i in range(1, amount + 1):\r\n",
    "\t\tres.append( i * step )\r\n",
    "\r\n",
    "\treturn res\r\n",
    "\r\n",
    "# Generating the small list, we'll use the same function we used to get the large numbers, except we'll manipulate (order and double the amount of them, not the value) the numbers\r\n",
    "def generate_small():\r\n",
    "\treturn sorted( generate_large(step = 1, amount = 10) * 2 )\r\n",
    "\r\n",
    "def pick_random(list, amount = 1):\r\n",
    "\treturn random.sample(list, amount)\r\n",
    "\r\n",
    "def permutate(list, amount = 2):\r\n",
    "\treturn it.permutations(list, amount)\r\n",
    "\r\n",
    "def permutate_limited(list, amount, limit):\r\n",
    "\treturn it.islice(permutate(list, amount), limit)\r\n",
    "\r\n",
    "def numbers_game(large = None):\r\n",
    "\tlarge = large if large else random.randrange(0, 5)\r\n",
    "\r\n",
    "\trandom_large = pick_random(generate_large(amount=large), amount = large)\r\n",
    "\trandom_small = pick_random(generate_small(), amount = 6 - large)\r\n",
    "\r\n",
    "\tplay_numbers = random_large + random_small\r\n",
    "\r\n",
    "\ttarget_number = random.randrange(101, 1000)\r\n",
    "\r\n",
    "\treturn play_numbers, target_number\r\n",
    "\r\n"
   ],
   "outputs": [],
   "metadata": {}
  },
  {
   "cell_type": "code",
   "execution_count": 303,
   "source": [
    "# Generate large numbers\r\n",
    "large_numbers = generate_large(25, 4)\r\n",
    "# Generate small numbers\r\n",
    "small_numbers = generate_small()\r\n",
    "\r\n",
    "# Fit that data into a pandas data frame\r\n",
    "df = pd.DataFrame(large_numbers, columns = ['Large'])\r\n",
    "# And finally display it\r\n",
    "df"
   ],
   "outputs": [
    {
     "output_type": "execute_result",
     "data": {
      "text/plain": [
       "   Large\n",
       "0     25\n",
       "1     50\n",
       "2     75\n",
       "3    100"
      ],
      "text/html": [
       "<div>\n",
       "<style scoped>\n",
       "    .dataframe tbody tr th:only-of-type {\n",
       "        vertical-align: middle;\n",
       "    }\n",
       "\n",
       "    .dataframe tbody tr th {\n",
       "        vertical-align: top;\n",
       "    }\n",
       "\n",
       "    .dataframe thead th {\n",
       "        text-align: right;\n",
       "    }\n",
       "</style>\n",
       "<table border=\"1\" class=\"dataframe\">\n",
       "  <thead>\n",
       "    <tr style=\"text-align: right;\">\n",
       "      <th></th>\n",
       "      <th>Large</th>\n",
       "    </tr>\n",
       "  </thead>\n",
       "  <tbody>\n",
       "    <tr>\n",
       "      <th>0</th>\n",
       "      <td>25</td>\n",
       "    </tr>\n",
       "    <tr>\n",
       "      <th>1</th>\n",
       "      <td>50</td>\n",
       "    </tr>\n",
       "    <tr>\n",
       "      <th>2</th>\n",
       "      <td>75</td>\n",
       "    </tr>\n",
       "    <tr>\n",
       "      <th>3</th>\n",
       "      <td>100</td>\n",
       "    </tr>\n",
       "  </tbody>\n",
       "</table>\n",
       "</div>"
      ]
     },
     "metadata": {},
     "execution_count": 303
    }
   ],
   "metadata": {}
  },
  {
   "cell_type": "code",
   "execution_count": 304,
   "source": [
    "# Peek the small numbers as well, just to make sure we're correct. We'll peek only 5 of them, to keep this preview short, and to keep the notebook clean.\r\n",
    "# Trust me, there's 20 elements in the list.\r\n",
    "df = pd.DataFrame(small_numbers[:5], columns = ['Small'], )\r\n",
    "df"
   ],
   "outputs": [
    {
     "output_type": "execute_result",
     "data": {
      "text/plain": [
       "   Small\n",
       "0      1\n",
       "1      1\n",
       "2      2\n",
       "3      2\n",
       "4      3"
      ],
      "text/html": [
       "<div>\n",
       "<style scoped>\n",
       "    .dataframe tbody tr th:only-of-type {\n",
       "        vertical-align: middle;\n",
       "    }\n",
       "\n",
       "    .dataframe tbody tr th {\n",
       "        vertical-align: top;\n",
       "    }\n",
       "\n",
       "    .dataframe thead th {\n",
       "        text-align: right;\n",
       "    }\n",
       "</style>\n",
       "<table border=\"1\" class=\"dataframe\">\n",
       "  <thead>\n",
       "    <tr style=\"text-align: right;\">\n",
       "      <th></th>\n",
       "      <th>Small</th>\n",
       "    </tr>\n",
       "  </thead>\n",
       "  <tbody>\n",
       "    <tr>\n",
       "      <th>0</th>\n",
       "      <td>1</td>\n",
       "    </tr>\n",
       "    <tr>\n",
       "      <th>1</th>\n",
       "      <td>1</td>\n",
       "    </tr>\n",
       "    <tr>\n",
       "      <th>2</th>\n",
       "      <td>2</td>\n",
       "    </tr>\n",
       "    <tr>\n",
       "      <th>3</th>\n",
       "      <td>2</td>\n",
       "    </tr>\n",
       "    <tr>\n",
       "      <th>4</th>\n",
       "      <td>3</td>\n",
       "    </tr>\n",
       "  </tbody>\n",
       "</table>\n",
       "</div>"
      ]
     },
     "metadata": {},
     "execution_count": 304
    }
   ],
   "metadata": {}
  },
  {
   "cell_type": "code",
   "execution_count": 305,
   "source": [
    "# Or if you don't trust me, then see for yourself.\r\n",
    "len(small_numbers)"
   ],
   "outputs": [
    {
     "output_type": "execute_result",
     "data": {
      "text/plain": [
       "20"
      ]
     },
     "metadata": {},
     "execution_count": 305
    }
   ],
   "metadata": {}
  },
  {
   "cell_type": "code",
   "execution_count": 306,
   "source": [
    "play_numbers, target = numbers_game()\r\n",
    "\r\n",
    "play_numbers, target"
   ],
   "outputs": [
    {
     "output_type": "execute_result",
     "data": {
      "text/plain": [
       "([4, 2, 5, 10, 4, 5], 243)"
      ]
     },
     "metadata": {},
     "execution_count": 306
    }
   ],
   "metadata": {}
  },
  {
   "cell_type": "code",
   "execution_count": 307,
   "source": [
    "OP = [operator.add, operator.mul, operator.sub, operator.truediv]\r\n",
    "\r\n",
    "# simplify the target for demo purposes, it'll be achievable using two numbers.\r\n",
    "temp_target = max(play_numbers) * min(play_numbers);\r\n",
    "\r\n",
    "# Will return all of the combinations of numbers and arithmetic operators that achieve the target number - We can adjust the amount of numbers we want to use to generate permutations\r\n",
    "def find_hits(play_numbers, target, number_amt = 2):\r\n",
    "\treturn list(filter(lambda z: z[1](z[0][0], z[0][1]) == target, it.product(permutate(play_numbers, number_amt), OP)));\r\n",
    "\r\n",
    "# Problem is, we're using temporary target which has been made easier on purpose for the algorithm to find answer using any two numbers and an operator - We'll need\r\n",
    "# something a little more bit advanced if we want to find the answer using more than two numbers, and any amount of arithmetic operators.\r\n",
    "print(\"Simplified target: %s, real target: %s\" % (temp_target, target))\r\n",
    "\r\n",
    "find_hits(play_numbers, temp_target)"
   ],
   "outputs": [
    {
     "output_type": "stream",
     "name": "stdout",
     "text": [
      "Simplified target: 20\n"
     ]
    },
    {
     "output_type": "execute_result",
     "data": {
      "text/plain": [
       "[((4, 5), <function _operator.mul(a, b, /)>),\n",
       " ((4, 5), <function _operator.mul(a, b, /)>),\n",
       " ((2, 10), <function _operator.mul(a, b, /)>),\n",
       " ((5, 4), <function _operator.mul(a, b, /)>),\n",
       " ((5, 4), <function _operator.mul(a, b, /)>),\n",
       " ((10, 2), <function _operator.mul(a, b, /)>),\n",
       " ((4, 5), <function _operator.mul(a, b, /)>),\n",
       " ((4, 5), <function _operator.mul(a, b, /)>),\n",
       " ((5, 4), <function _operator.mul(a, b, /)>),\n",
       " ((5, 4), <function _operator.mul(a, b, /)>)]"
      ]
     },
     "metadata": {},
     "execution_count": 307
    }
   ],
   "metadata": {}
  },
  {
   "cell_type": "markdown",
   "source": [],
   "metadata": {}
  }
 ],
 "metadata": {
  "orig_nbformat": 4,
  "language_info": {
   "name": "python",
   "version": "3.9.6",
   "mimetype": "text/x-python",
   "codemirror_mode": {
    "name": "ipython",
    "version": 3
   },
   "pygments_lexer": "ipython3",
   "nbconvert_exporter": "python",
   "file_extension": ".py"
  },
  "kernelspec": {
   "name": "python3",
   "display_name": "Python 3.9.6 64-bit"
  },
  "interpreter": {
   "hash": "63fd5069d213b44bf678585dea6b12cceca9941eaf7f819626cde1f2670de90d"
  }
 },
 "nbformat": 4,
 "nbformat_minor": 2
}
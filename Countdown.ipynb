{
 "cells": [
  {
   "cell_type": "markdown",
   "source": [
    "# The Countdown Show, Numbers-Game \r\n",
    "Countdown is a british show that broadcast on Channel 4. In the show, there are three games that are played in the show. We'll be concerned with the game that is called \"Countdown\" - Essentially, the contestants must use arithmetic mathematics to reach a random target number from six other numbers. The playing numbers as well as the target number are randomly generated, and you need to reach the target number, using the playing numbers and performing the arithmetic operations on these numbers.\r\n",
    "\r\n",
    "We can use the reverse polish notation in finding of the target number using all the possible permutations (combinations) of the numbers and the operators.\r\n",
    "\r\n",
    "## Complexity of the Problem\r\n",
    "The problem is fairly complex and has a lot of possible solutions. In some scenarios, there can be a lot of solutions, and in others, there's a possibility that the number won't be able to be reached, in which scenario the closer player will be the winner.\r\n",
    "\r\n",
    "You get 6 playing numbers to perform arithmetics drawn from a pile of big numbers, as well small numbers, the possible permutations (combinations) of the numbers are 720 - With all of the possibilities of 5 different operators, the possibilities shoot up to 737280 various combinations (but not limited to).\r\n",
    "\r\n",
    "Brute-forcing the solution might not be the most efficient solution. \r\n"
   ],
   "metadata": {}
  },
  {
   "cell_type": "code",
   "execution_count": 320,
   "source": [
    "# Import all the libraries that the lab used.\r\n",
    "import itertools as it\r\n",
    "import random\r\n",
    "import operator\r\n",
    "import pandas as pd\r\n",
    "\r\n",
    "# Generate the list of the \"large\" numbers.\r\n",
    "def generate_large(step = 25, amount = 4):\r\n",
    "\tres = []\r\n",
    "\r\n",
    "\tfor i in range(1, amount + 1):\r\n",
    "\t\tres.append( i * step )\r\n",
    "\r\n",
    "\treturn res\r\n",
    "\r\n",
    "# Generating the small list, we'll use the same function we used to get the large numbers, except we'll manipulate (order and double the amount of them, not the value) the numbers\r\n",
    "def generate_small():\r\n",
    "\treturn sorted( generate_large(step = 1, amount = 10) * 2 )\r\n",
    "\r\n",
    "def pick_random(list, amount = 1):\r\n",
    "\treturn random.sample(list, amount)\r\n",
    "\r\n",
    "def permutate(list, amount = 2):\r\n",
    "\treturn it.permutations(list, amount)\r\n",
    "\r\n",
    "def permutate_limited(list, amount, limit):\r\n",
    "\treturn it.islice(permutate(list, amount), limit)\r\n",
    "\r\n",
    "def numbers_game(large = None):\r\n",
    "\tlarge = large if large else random.randrange(0, 5)\r\n",
    "\r\n",
    "\trandom_large = pick_random(generate_large(amount=large), amount = large)\r\n",
    "\trandom_small = pick_random(generate_small(), amount = 6 - large)\r\n",
    "\r\n",
    "\tplay_numbers = random_large + random_small\r\n",
    "\r\n",
    "\ttarget_number = random.randrange(101, 1000)\r\n",
    "\r\n",
    "\treturn play_numbers, target_number\r\n",
    "\r\n"
   ],
   "outputs": [],
   "metadata": {}
  },
  {
   "cell_type": "code",
   "execution_count": 321,
   "source": [
    "# Generate large numbers\r\n",
    "large_numbers = generate_large(25, 4)\r\n",
    "# Generate small numbers\r\n",
    "small_numbers = generate_small()\r\n",
    "\r\n",
    "# Fit that data into a pandas data frame\r\n",
    "df = pd.DataFrame(large_numbers, columns = ['Large'])\r\n",
    "# And finally display it\r\n",
    "df"
   ],
   "outputs": [
    {
     "output_type": "execute_result",
     "data": {
      "text/plain": [
       "   Large\n",
       "0     25\n",
       "1     50\n",
       "2     75\n",
       "3    100"
      ],
      "text/html": [
       "<div>\n",
       "<style scoped>\n",
       "    .dataframe tbody tr th:only-of-type {\n",
       "        vertical-align: middle;\n",
       "    }\n",
       "\n",
       "    .dataframe tbody tr th {\n",
       "        vertical-align: top;\n",
       "    }\n",
       "\n",
       "    .dataframe thead th {\n",
       "        text-align: right;\n",
       "    }\n",
       "</style>\n",
       "<table border=\"1\" class=\"dataframe\">\n",
       "  <thead>\n",
       "    <tr style=\"text-align: right;\">\n",
       "      <th></th>\n",
       "      <th>Large</th>\n",
       "    </tr>\n",
       "  </thead>\n",
       "  <tbody>\n",
       "    <tr>\n",
       "      <th>0</th>\n",
       "      <td>25</td>\n",
       "    </tr>\n",
       "    <tr>\n",
       "      <th>1</th>\n",
       "      <td>50</td>\n",
       "    </tr>\n",
       "    <tr>\n",
       "      <th>2</th>\n",
       "      <td>75</td>\n",
       "    </tr>\n",
       "    <tr>\n",
       "      <th>3</th>\n",
       "      <td>100</td>\n",
       "    </tr>\n",
       "  </tbody>\n",
       "</table>\n",
       "</div>"
      ]
     },
     "metadata": {},
     "execution_count": 321
    }
   ],
   "metadata": {}
  },
  {
   "cell_type": "code",
   "execution_count": 322,
   "source": [
    "# Peek the small numbers as well, just to make sure we're correct. We'll peek only 5 of them, to keep this preview short, and to keep the notebook clean.\r\n",
    "# Trust me, there's 20 elements in the list.\r\n",
    "df = pd.DataFrame(small_numbers[:5], columns = ['Small'], )\r\n",
    "df"
   ],
   "outputs": [
    {
     "output_type": "execute_result",
     "data": {
      "text/plain": [
       "   Small\n",
       "0      1\n",
       "1      1\n",
       "2      2\n",
       "3      2\n",
       "4      3"
      ],
      "text/html": [
       "<div>\n",
       "<style scoped>\n",
       "    .dataframe tbody tr th:only-of-type {\n",
       "        vertical-align: middle;\n",
       "    }\n",
       "\n",
       "    .dataframe tbody tr th {\n",
       "        vertical-align: top;\n",
       "    }\n",
       "\n",
       "    .dataframe thead th {\n",
       "        text-align: right;\n",
       "    }\n",
       "</style>\n",
       "<table border=\"1\" class=\"dataframe\">\n",
       "  <thead>\n",
       "    <tr style=\"text-align: right;\">\n",
       "      <th></th>\n",
       "      <th>Small</th>\n",
       "    </tr>\n",
       "  </thead>\n",
       "  <tbody>\n",
       "    <tr>\n",
       "      <th>0</th>\n",
       "      <td>1</td>\n",
       "    </tr>\n",
       "    <tr>\n",
       "      <th>1</th>\n",
       "      <td>1</td>\n",
       "    </tr>\n",
       "    <tr>\n",
       "      <th>2</th>\n",
       "      <td>2</td>\n",
       "    </tr>\n",
       "    <tr>\n",
       "      <th>3</th>\n",
       "      <td>2</td>\n",
       "    </tr>\n",
       "    <tr>\n",
       "      <th>4</th>\n",
       "      <td>3</td>\n",
       "    </tr>\n",
       "  </tbody>\n",
       "</table>\n",
       "</div>"
      ]
     },
     "metadata": {},
     "execution_count": 322
    }
   ],
   "metadata": {}
  },
  {
   "cell_type": "code",
   "execution_count": 323,
   "source": [
    "# Or if you don't trust me, then see for yourself.\r\n",
    "len(small_numbers)"
   ],
   "outputs": [
    {
     "output_type": "execute_result",
     "data": {
      "text/plain": [
       "20"
      ]
     },
     "metadata": {},
     "execution_count": 323
    }
   ],
   "metadata": {}
  },
  {
   "cell_type": "code",
   "execution_count": 324,
   "source": [
    "play_numbers, target = numbers_game()\r\n",
    "\r\n",
    "play_numbers, target"
   ],
   "outputs": [
    {
     "output_type": "execute_result",
     "data": {
      "text/plain": [
       "([75, 50, 25, 100, 7, 2], 555)"
      ]
     },
     "metadata": {},
     "execution_count": 324
    }
   ],
   "metadata": {}
  },
  {
   "cell_type": "code",
   "execution_count": 325,
   "source": [
    "OP = [operator.add, operator.mul, operator.sub, operator.truediv]\r\n",
    "\r\n",
    "# simplify the target for demo purposes, it'll be achievable using two numbers.\r\n",
    "temp_target = max(play_numbers) * min(play_numbers);\r\n",
    "\r\n",
    "# Will return all of the combinations of numbers and arithmetic operators that achieve the target number - We can adjust the amount of numbers we want to use to generate permutations\r\n",
    "def find_hits(play_numbers, target):\r\n",
    "\treturn list(filter(lambda z: z[1](z[0][0], z[0][1]) == target, it.product(permutate(play_numbers, 2), OP)));\r\n",
    "\r\n",
    "# Problem is, we're using temporary target which has been made easier on purpose for the algorithm to find answer using any two numbers and an operator - We'll need\r\n",
    "# something a little more bit advanced if we want to find the answer using more than two numbers, and any amount of arithmetic operators.\r\n",
    "print(\"Simplified target: %s, real target: %s\" % (temp_target, target))\r\n",
    "\r\n",
    "find_hits(play_numbers, temp_target)\r\n",
    "\r\n",
    "# We'll cover the solution to this problem in the next part, using the reverse polish notation.\r\n",
    "# By the way, reverse polish notation is a way to write arithmetic expressions in a way that operators are applied to the numbers in the order they appear in the expression.\r\n",
    "# It'll help us in parsing of the notation programmatically.\r\n",
    "# The reverse polish scheme was actually reinvented several times, with Edsger Dijkstra's being one of the reinventors in the early 60s in order to simplify the notation for the easier computation of it by \r\n",
    "# the computer, as well as to reduce computer memory usage.\r\n",
    "# The reverse polish notation is also known as postfix notation - It's the notation used in various stack-oriented programming languages. It has lead to faster computations and less human-errors caused by humans using\r\n",
    "# the notation, implying that the notation might be easier to understand and read. (Honestly, how many times have you mistaken order of operations due to brackets?)\r\n",
    "# ^ Needs citation, but I'll leave it for now. Some evidence suggests that it's harder to learn, and that less errors resulting from it are due to less keystrokes needed to type it out.\r\n",
    "\r\n",
    "# An example notation would look like: 3 4 + 5 *\r\n",
    "# It's 35, by the way."
   ],
   "outputs": [
    {
     "output_type": "stream",
     "name": "stdout",
     "text": [
      "Simplified target: 200, real target: 555\n"
     ]
    },
    {
     "output_type": "execute_result",
     "data": {
      "text/plain": [
       "[((100, 2), <function _operator.mul(a, b, /)>),\n",
       " ((2, 100), <function _operator.mul(a, b, /)>)]"
      ]
     },
     "metadata": {},
     "execution_count": 325
    }
   ],
   "metadata": {}
  },
  {
   "cell_type": "code",
   "execution_count": 326,
   "source": [
    "# Let's generate a postfix notation list of combinations.\r\n",
    "# This is a generator - note the yield statements, this is a feature of generators in Python which facilitates the functional programming aspect of Python.\r\n",
    "# Those values will be generated on the fly, and will not be stored in the memory - Each invocation of the generator will return a new value.\r\n",
    "\r\n",
    "# Generators let us not pre-compute values, but rather generate them on the fly - We can then simply abort (return) from within the for block and the generator won't compute any further values.\r\n",
    "def patterns(numbers, operators):\r\n",
    "\t# We're recursing, so we'll need to make sure we don't go too deep.\r\n",
    "\tif len(numbers) == 1:\r\n",
    "\t\tyield numbers\r\n",
    "\r\n",
    "\tfor i in range(1, len(numbers)):\r\n",
    "\t\tfor left, right in it.product(patterns(numbers[:i], operators[1:i]), patterns(numbers[i:], operators[i:])):\r\n",
    "\t\t\tyield [*left, *right, operators[0]]\r\n",
    "\r\n",
    "\r\n",
    "# Function that can evaluate the RPN notation expression.\r\n",
    "def eval_rpn(rpn):\r\n",
    "\tstack = []\r\n",
    "\t# For each RPN element, we'll check if it's an operator or a number.\r\n",
    "\tfor i in rpn:\r\n",
    "\t\tif isinstance(i, int):\r\n",
    "\t\t\t# If it's a number, we'll push it to the stack.\r\n",
    "\t\t\tstack = stack + [i]\r\n",
    "\telse:\r\n",
    "\t\t# If it's an operator, we'll pop the last two elements from the stack, and apply the operator to the two numbers.\r\n",
    "\t\tright = stack[-1]\r\n",
    "\t\tstack = stack[:-1]\r\n",
    "\t\tleft = stack[-1]\r\n",
    "\t\tstack = stack[:-1]\r\n",
    "\t\tstack = stack + [i(left, right)]\r\n",
    "\r\n",
    "\t# We'll return the last element of the stack, which should be the result of the expression.\r\n",
    "\treturn stack[0]\r\n",
    "\r\n",
    "# We would probably generate all the permutations of the numbers and operators, then possible permutations of the RPN operations with those numbers and then evaluate those notations and filter out\r\n",
    "# the ones that hit the target and save those as solutions. However, it's worth nothing that it is a ridiculous amount of possibilities to consider and bruteforce in order to find the answer."
   ],
   "outputs": [],
   "metadata": {}
  },
  {
   "cell_type": "code",
   "execution_count": 327,
   "source": [
    "# Search for the target number solution using RPN notation and permutations of numbers and operators.\r\n",
    "def search_rpn(numbers, operators, target):\r\n",
    "\tprint(\"Target is %s\" % target)\r\n",
    "\r\n",
    "\tfor i in patterns(numbers, operators):\r\n",
    "\t\tprint(i)\r\n",
    "\t\tresult = eval_rpn(i);\r\n",
    "\t\tprint(\"Result: %s\" % result)\r\n",
    "\r\n",
    "\t\tif result == target:\r\n",
    "\t\t\treturn i\r\n",
    "\r\n",
    "solution = search_rpn(play_numbers, [operator.add, operator.add, operator.mul, operator.truediv, operator.sub], target)"
   ],
   "outputs": [
    {
     "output_type": "stream",
     "name": "stdout",
     "text": [
      "Target is 555\n",
      "[75, 50, 25, 100, 7, 2, <built-in function sub>, <built-in function truediv>, <built-in function mul>, <built-in function add>, <built-in function add>]\n",
      "Result: 75\n",
      "[75, 50, 25, 100, 7, <built-in function sub>, 2, <built-in function truediv>, <built-in function mul>, <built-in function add>, <built-in function add>]\n",
      "Result: 75\n",
      "[75, 50, 25, 100, <built-in function truediv>, 7, 2, <built-in function sub>, <built-in function mul>, <built-in function add>, <built-in function add>]\n",
      "Result: 75\n",
      "[75, 50, 25, 100, 7, <built-in function sub>, <built-in function truediv>, 2, <built-in function mul>, <built-in function add>, <built-in function add>]\n",
      "Result: 75\n",
      "[75, 50, 25, 100, <built-in function sub>, 7, <built-in function truediv>, 2, <built-in function mul>, <built-in function add>, <built-in function add>]\n",
      "Result: 75\n",
      "[75, 50, 25, <built-in function mul>, 100, 7, 2, <built-in function sub>, <built-in function truediv>, <built-in function add>, <built-in function add>]\n",
      "Result: 75\n",
      "[75, 50, 25, <built-in function mul>, 100, 7, <built-in function sub>, 2, <built-in function truediv>, <built-in function add>, <built-in function add>]\n",
      "Result: 75\n",
      "[75, 50, 25, 100, <built-in function truediv>, <built-in function mul>, 7, 2, <built-in function sub>, <built-in function add>, <built-in function add>]\n",
      "Result: 75\n",
      "[75, 50, 25, <built-in function truediv>, 100, <built-in function mul>, 7, 2, <built-in function sub>, <built-in function add>, <built-in function add>]\n",
      "Result: 75\n",
      "[75, 50, 25, 100, 7, <built-in function sub>, <built-in function truediv>, <built-in function mul>, 2, <built-in function add>, <built-in function add>]\n",
      "Result: 75\n",
      "[75, 50, 25, 100, <built-in function sub>, 7, <built-in function truediv>, <built-in function mul>, 2, <built-in function add>, <built-in function add>]\n",
      "Result: 75\n",
      "[75, 50, 25, <built-in function truediv>, 100, 7, <built-in function sub>, <built-in function mul>, 2, <built-in function add>, <built-in function add>]\n",
      "Result: 75\n",
      "[75, 50, 25, 100, <built-in function sub>, <built-in function truediv>, 7, <built-in function mul>, 2, <built-in function add>, <built-in function add>]\n",
      "Result: 75\n",
      "[75, 50, 25, <built-in function sub>, 100, <built-in function truediv>, 7, <built-in function mul>, 2, <built-in function add>, <built-in function add>]\n",
      "Result: 75\n",
      "[75, 50, <built-in function add>, 25, 100, 7, 2, <built-in function sub>, <built-in function truediv>, <built-in function mul>, <built-in function add>]\n",
      "Result: 75\n",
      "[75, 50, <built-in function add>, 25, 100, 7, <built-in function sub>, 2, <built-in function truediv>, <built-in function mul>, <built-in function add>]\n",
      "Result: 75\n",
      "[75, 50, <built-in function add>, 25, 100, <built-in function truediv>, 7, 2, <built-in function sub>, <built-in function mul>, <built-in function add>]\n",
      "Result: 75\n",
      "[75, 50, <built-in function add>, 25, 100, 7, <built-in function sub>, <built-in function truediv>, 2, <built-in function mul>, <built-in function add>]\n",
      "Result: 75\n",
      "[75, 50, <built-in function add>, 25, 100, <built-in function sub>, 7, <built-in function truediv>, 2, <built-in function mul>, <built-in function add>]\n",
      "Result: 75\n",
      "[75, 50, 25, <built-in function mul>, <built-in function add>, 100, 7, 2, <built-in function sub>, <built-in function truediv>, <built-in function add>]\n",
      "Result: 75\n",
      "[75, 50, 25, <built-in function mul>, <built-in function add>, 100, 7, <built-in function sub>, 2, <built-in function truediv>, <built-in function add>]\n",
      "Result: 75\n",
      "[75, 50, <built-in function mul>, 25, <built-in function add>, 100, 7, 2, <built-in function sub>, <built-in function truediv>, <built-in function add>]\n",
      "Result: 75\n",
      "[75, 50, <built-in function mul>, 25, <built-in function add>, 100, 7, <built-in function sub>, 2, <built-in function truediv>, <built-in function add>]\n",
      "Result: 75\n",
      "[75, 50, 25, 100, <built-in function truediv>, <built-in function mul>, <built-in function add>, 7, 2, <built-in function sub>, <built-in function add>]\n",
      "Result: 75\n",
      "[75, 50, 25, <built-in function truediv>, 100, <built-in function mul>, <built-in function add>, 7, 2, <built-in function sub>, <built-in function add>]\n",
      "Result: 75\n",
      "[75, 50, <built-in function mul>, 25, 100, <built-in function truediv>, <built-in function add>, 7, 2, <built-in function sub>, <built-in function add>]\n",
      "Result: 75\n",
      "[75, 50, 25, <built-in function truediv>, <built-in function mul>, 100, <built-in function add>, 7, 2, <built-in function sub>, <built-in function add>]\n",
      "Result: 75\n",
      "[75, 50, <built-in function truediv>, 25, <built-in function mul>, 100, <built-in function add>, 7, 2, <built-in function sub>, <built-in function add>]\n",
      "Result: 75\n",
      "[75, 50, 25, 100, 7, <built-in function sub>, <built-in function truediv>, <built-in function mul>, <built-in function add>, 2, <built-in function add>]\n",
      "Result: 75\n",
      "[75, 50, 25, 100, <built-in function sub>, 7, <built-in function truediv>, <built-in function mul>, <built-in function add>, 2, <built-in function add>]\n",
      "Result: 75\n",
      "[75, 50, 25, <built-in function truediv>, 100, 7, <built-in function sub>, <built-in function mul>, <built-in function add>, 2, <built-in function add>]\n",
      "Result: 75\n",
      "[75, 50, 25, 100, <built-in function sub>, <built-in function truediv>, 7, <built-in function mul>, <built-in function add>, 2, <built-in function add>]\n",
      "Result: 75\n",
      "[75, 50, 25, <built-in function sub>, 100, <built-in function truediv>, 7, <built-in function mul>, <built-in function add>, 2, <built-in function add>]\n",
      "Result: 75\n",
      "[75, 50, <built-in function mul>, 25, 100, 7, <built-in function sub>, <built-in function truediv>, <built-in function add>, 2, <built-in function add>]\n",
      "Result: 75\n",
      "[75, 50, <built-in function mul>, 25, 100, <built-in function sub>, 7, <built-in function truediv>, <built-in function add>, 2, <built-in function add>]\n",
      "Result: 75\n",
      "[75, 50, 25, <built-in function truediv>, <built-in function mul>, 100, 7, <built-in function sub>, <built-in function add>, 2, <built-in function add>]\n",
      "Result: 75\n",
      "[75, 50, <built-in function truediv>, 25, <built-in function mul>, 100, 7, <built-in function sub>, <built-in function add>, 2, <built-in function add>]\n",
      "Result: 75\n",
      "[75, 50, 25, 100, <built-in function sub>, <built-in function truediv>, <built-in function mul>, 7, <built-in function add>, 2, <built-in function add>]\n",
      "Result: 75\n",
      "[75, 50, 25, <built-in function sub>, 100, <built-in function truediv>, <built-in function mul>, 7, <built-in function add>, 2, <built-in function add>]\n",
      "Result: 75\n",
      "[75, 50, <built-in function truediv>, 25, 100, <built-in function sub>, <built-in function mul>, 7, <built-in function add>, 2, <built-in function add>]\n",
      "Result: 75\n",
      "[75, 50, 25, <built-in function sub>, <built-in function truediv>, 100, <built-in function mul>, 7, <built-in function add>, 2, <built-in function add>]\n",
      "Result: 75\n",
      "[75, 50, <built-in function sub>, 25, <built-in function truediv>, 100, <built-in function mul>, 7, <built-in function add>, 2, <built-in function add>]\n",
      "Result: 75\n"
     ]
    }
   ],
   "metadata": {}
  }
 ],
 "metadata": {
  "orig_nbformat": 4,
  "language_info": {
   "name": "python",
   "version": "3.9.6",
   "mimetype": "text/x-python",
   "codemirror_mode": {
    "name": "ipython",
    "version": 3
   },
   "pygments_lexer": "ipython3",
   "nbconvert_exporter": "python",
   "file_extension": ".py"
  },
  "kernelspec": {
   "name": "python3",
   "display_name": "Python 3.9.6 64-bit"
  },
  "interpreter": {
   "hash": "63fd5069d213b44bf678585dea6b12cceca9941eaf7f819626cde1f2670de90d"
  }
 },
 "nbformat": 4,
 "nbformat_minor": 2
}